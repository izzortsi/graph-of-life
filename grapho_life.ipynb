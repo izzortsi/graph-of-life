{
 "cells": [
  {
   "cell_type": "code",
   "execution_count": null,
   "metadata": {},
   "outputs": [],
   "source": [
    "import graph_tool.all as gt\n",
    "import numpy as np\n",
    "import numpy.random as npr\n",
    "import matplotlib.pyplot as plt\n",
    "import os\n",
    "\n",
    "\n",
    "n=50; m=50; n_iter = 10*8; plt_scale = 7; density=0.65;\n",
    "num_states = 2\n",
    "N=n*m//10; print(N)\n",
    "space_scale = 2.8\n",
    "P=3; Q=2*P;\n",
    "npr.RandomState(2)\n",
    "\n",
    "DRAW = False #Dump drawn frames to disk?"
   ]
  },
  {
   "cell_type": "code",
   "execution_count": 15,
   "metadata": {},
   "outputs": [],
   "source": [
    "def gen_ints(N, p, n=1):\n",
    "    #n, p = 1, .5  number of trials, probability of each trial\n",
    "    s = np.random.binomial(n, p, N)\n",
    "    return s"
   ]
  },
  {
   "cell_type": "code",
   "execution_count": 16,
   "metadata": {},
   "outputs": [],
   "source": [
    "def make_rpGA(dim, num_states, density=0.5):\n",
    "    points = npr.random((N, 2))*space_scale\n",
    "    g= gt.Graph(directed=False)\n",
    "    g.vp.pos = g.new_vertex_property(\"vector<double>\")\n",
    "    g, g.vp.pos = gt.geometric_graph(points, 10 * space_scale / (n + m))\n",
    "    g.gp.age = g.new_graph_property(\"int\")\n",
    "\n",
    "    g.vp.state = g.new_vertex_property(\"int\")\n",
    "    g.vp.color = g.new_vertex_property(\"string\")\n",
    "    g.ep.weight = g.new_edge_property(\"int\")\n",
    "    nedg = g.num_edges()\n",
    "    g.ep.weight.a = np.array([1 for i in range(nedg)])\n",
    "    \n",
    "    states_vals=gen_ints(dim, density, n=1)\n",
    "    #print(sum(states_vals))\n",
    "    #print(g.list_properties())\n",
    "    for i, v in enumerate(g.vertices()):\n",
    "        g.gp.age = 0\n",
    "        g.vp.state[v] = states_vals[i]\n",
    "        if g.vp.state[v] == 0:\n",
    "            g.vp.color[v] = \"black\"\n",
    "        else:\n",
    "            g.vp.color[v] = \"white\"\n",
    "    return g\n",
    "\n"
   ]
  },
  {
   "cell_type": "code",
   "execution_count": 17,
   "metadata": {},
   "outputs": [],
   "source": [
    "g = make_rpGA(N, num_states, density=density)"
   ]
  },
  {
   "cell_type": "code",
   "execution_count": 18,
   "metadata": {},
   "outputs": [],
   "source": [
    "def update_state(g, v): #updates the state of a vertex with rules analogous to the original GoL\n",
    "\n",
    "    Nv = g.get_all_neighbors(v)\n",
    "    sum_nbstates = sum([g.vp.state[u] for u in Nv])\n",
    "    nb_size = len(Nv)\n",
    "    acoef = sum_nbstates/nb_size\n",
    "    #print(acoef)\n",
    "    if (g.vp.state[v]==1):\n",
    "        if 2/nb_size<=acoef<=3/nb_size:\n",
    "            g.vp.state[v]=1;\n",
    "            g.vp.color[v] = \"white\"\n",
    "        else:\n",
    "            g.vp.state[v]=0\n",
    "            g.vp.color[v] = \"black\"\n",
    "        \n",
    "    elif (g.vp.state[v]==0):\n",
    "        #if (acoef == 3/nb_size):\n",
    "        if 2/nb_size<=acoef<=4/nb_size:\n",
    "            g.vp.state[v]=1\n",
    "            g.vp.color[v] = \"white\"\n",
    "        else:\n",
    "            g.vp.state[v]=0\n",
    "            g.vp.color[v] = \"black\"\n",
    "    return g.vp.state[v], g.vp.color[v]"
   ]
  },
  {
   "cell_type": "code",
   "execution_count": 19,
   "metadata": {},
   "outputs": [],
   "source": [
    "def update_configuration(g, rule): #applies the update_state function to each vertex\n",
    "    G = g.copy()\n",
    "    to_remove =[]\n",
    "    for v in g.vertices():\n",
    "        if len(g.get_all_edges(v)) == 0:\n",
    "            to_remove.append(v)\n",
    "        else:\n",
    "            G.vp.state[v], G.vp.color[v] = rule(G, v)\n",
    "\n",
    "    G.remove_vertex(to_remove)\n",
    "    return G"
   ]
  },
  {
   "cell_type": "code",
   "execution_count": 20,
   "metadata": {},
   "outputs": [],
   "source": [
    "def update_topology(g): #updates the graph topology, based on the dynamics i.e., the vertices states\n",
    "    G = g.copy()\n",
    "    for v in g.vertices():\n",
    "        neighbors = g.get_all_neighbors(v)\n",
    "        for u in neighbors:\n",
    "            if g.vp.state[v] == g.vp.state[u]:\n",
    "                \n",
    "                e_ = G.edge(v, u, all_edges=True)\n",
    "                \n",
    "                if g.vp.state[v] == 1:\n",
    "                    \n",
    "                    for e in e_:\n",
    "                        G.ep.weight[e] = min([G.ep.weight[e]+1,Q*G.gp.age])\n",
    "                        \n",
    "                elif g.vp.state[v] == 0:\n",
    "                    for e in e_:\n",
    "\n",
    "                        if G.ep.weight[e] < 1:\n",
    "                            G.remove_edge(e)\n",
    "\n",
    "                        else:\n",
    "                            if npr.rand() < 0.2:\n",
    "                                G.ep.weight[e] -= 1\n",
    "\n",
    "\n",
    "    G.gp.age +=1\n",
    "    return G"
   ]
  },
  {
   "cell_type": "code",
   "execution_count": 21,
   "metadata": {},
   "outputs": [],
   "source": [
    "def make_gif(g, rule, n_iter=n_iter,  outname='def'):\n",
    "    fname_prefix = os.path.join(\"./frames\", outname)\n",
    "    if DRAW == True:\n",
    "        gt.graph_draw(g,pos=g.vp.pos,vertex_shape=\"circle\", vertex_fill_color=g.vp.color,vertex_size=9, output_size=(plt_scale*n,plt_scale*m), output=fname_prefix+\"_draw0000.png\");\n",
    "    \n",
    "    Gs = [g]\n",
    "    \n",
    "    for i in range(1, n_iter+1):\n",
    "        G = update_configuration(Gs[-1], rule=rule)\n",
    "        #print(len(G.vp.state.a), len(Gs[-1].vp.state.a))\n",
    "        msize = min([len(G.vp.state.a), len(Gs[-1].vp.state.a)])\n",
    "    \n",
    "        if np.all(G.vp.state.a[-msize:-1] == Gs[-1].vp.state.a[-msize:-1]):\n",
    "            print('early convergence')\n",
    "            return Gs\n",
    "        else:\n",
    "            G= update_topology(G)\n",
    "            npos = gt.sfdp_layout(G, pos=G.vp.pos, eweight=G.ep.weight, max_iter=1, init_step=0.01, K=0.5)\n",
    "            G.vp.pos = npos\n",
    "\n",
    "        if DRAW == True:\n",
    "            fname_prefix = os.path.join(\"./frames\", outname)\n",
    "            gt.graph_draw(G,pos=G.vp.pos,vertex_shape=\"circle\", vertex_fill_color=G.vp.color,vertex_size=9, output_size=(plt_scale*n,plt_scale*m), output=fname_prefix+\"_draw%04d.png\"  %i);\n",
    "        \n",
    "        Gs.append(G)\n",
    "\n",
    "    return Gs"
   ]
  },
  {
   "cell_type": "code",
   "execution_count": 22,
   "metadata": {},
   "outputs": [],
   "source": [
    "rule = update_state"
   ]
  },
  {
   "cell_type": "code",
   "execution_count": null,
   "metadata": {},
   "outputs": [],
   "source": [
    "g = make_rpGA(N, num_states, density = density)\n",
    "g.vp.pos = gt.sfdp_layout(g,pos=g.vp.pos, eweight=g.ep.weight,K=0.5)\n",
    "gt.graph_draw(g,pos=g.vp.pos,vertex_shape=\"circle\", vertex_fill_color=g.vp.color,vertex_size=9,output_size=(plt_scale*n,plt_scale*m));"
   ]
  },
  {
   "cell_type": "code",
   "execution_count": 27,
   "metadata": {},
   "outputs": [],
   "source": [
    "if not os.path.exists(\"./frames\"):\n",
    "    os.mkdir(\"./frames\")\n",
    "\n",
    "GS1 = make_gif(g,rule, n_iter=n_iter, outname='ga');"
   ]
  },
  {
   "cell_type": "code",
   "execution_count": 28,
   "metadata": {},
   "outputs": [],
   "source": [
    "from ipywidgets import interact, interactive\n",
    "from IPython import display"
   ]
  },
  {
   "cell_type": "code",
   "execution_count": 29,
   "metadata": {},
   "outputs": [],
   "source": [
    "#gt.interactive_window(GS1[0], pos=GS1[0].vp.pos, vertex_fill_color=GS1[0].vp.color, update_layout=True, main=False)"
   ]
  },
  {
   "cell_type": "code",
   "execution_count": 30,
   "metadata": {},
   "outputs": [],
   "source": [
    "def display_ga(ga_seq):\n",
    "    def _show(gidx=(0, len(ga_seq)-1)):\n",
    "        return gt.graph_draw(ga_seq[gidx],pos=ga_seq[gidx].vp.pos, vertex_fill_color=ga_seq[gidx].vp.color,vertex_size=9,output_size=(plt_scale*n,plt_scale*m), inline=True)\n",
    "    return interact(_show)"
   ]
  },
  {
   "cell_type": "code",
   "execution_count": 31,
   "metadata": {},
   "outputs": [
    {
     "data": {
      "application/vnd.jupyter.widget-view+json": {
       "model_id": "a2bd643186ac4da39a9ead9dc8d0a11b",
       "version_major": 2,
       "version_minor": 0
      },
      "text/plain": "interactive(children=(IntSlider(value=40, description='gidx', max=80), Output()), _dom_classes=('widget-intera…"
     },
     "metadata": {},
     "output_type": "display_data"
    }
   ],
   "source": [
    "display_ga(GS1)"
   ]
  },
  {
   "cell_type": "code",
   "execution_count": 15,
   "metadata": {},
   "outputs": [],
   "source": [
    "def display_interactive_ga(ga_seq):   \n",
    "    raise NotImplementedError\n",
    "    gt.interactive_window(ga_seq[0], pos=ga_seq[0].vp.pos, vertex_fill_color=ga_seq[0].vp.color, update_layout=True, main=False, return_window=False)\n",
    "    def _show(gidx=(0, len(ga_seq)-1)):\n",
    "        return gt.interactive_window(ga_seq[gidx], pos=ga_seq[gidx].vp.pos, vertex_fill_color=ga_seq[gidx].vp.color, update_layout=True, main=False, window=gtwin, return_window=False)\n",
    "    return interact(_show)\n",
    "    \n",
    "    "
   ]
  },
  {
   "cell_type": "code",
   "execution_count": null,
   "metadata": {},
   "outputs": [],
   "source": []
  }
 ],
 "metadata": {
  "interpreter": {
   "hash": "e7370f93d1d0cde622a1f8e1c04877d8463912d04d973331ad4851f04de6915a"
  },
  "kernelspec": {
   "display_name": "Python 3.9.4 64-bit",
   "name": "python3"
  },
  "language_info": {
   "codemirror_mode": {
    "name": "ipython",
    "version": 3
   },
   "file_extension": ".py",
   "mimetype": "text/x-python",
   "name": "python",
   "nbconvert_exporter": "python",
   "pygments_lexer": "ipython3",
   "version": "3.9.4"
  }
 },
 "nbformat": 4,
 "nbformat_minor": 4
}